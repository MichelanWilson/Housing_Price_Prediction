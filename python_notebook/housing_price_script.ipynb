{
 "cells": [
  {
   "cell_type": "markdown",
   "id": "435a637a-1818-4384-96d1-9e4cd2e9e079",
   "metadata": {},
   "source": [
    "# Housing Price Prediction using Python\n",
    "### by Michelan Wilson"
   ]
  },
  {
   "cell_type": "code",
   "execution_count": null,
   "id": "b44873bf-7bac-4647-b8ef-60a7997edd6f",
   "metadata": {},
   "outputs": [],
   "source": [
    "#### import libraries"
   ]
  },
  {
   "cell_type": "code",
   "execution_count": null,
   "id": "30d831ca-b185-46a7-8d7f-7cf8eb0bb847",
   "metadata": {},
   "outputs": [],
   "source": [
    "import numpy as np\n",
    "import matplotlib.pyplot as plt\n",
    "import pandas as pd"
   ]
  },
  {
   "cell_type": "code",
   "execution_count": 98,
   "id": "a721cd52-fd61-4402-a7fe-3ae003514d5e",
   "metadata": {},
   "outputs": [
    {
     "name": "stdout",
     "output_type": "stream",
     "text": [
      "C:\\Users\\michy\\Housing_Price_Prediction\\housing_data\n"
     ]
    }
   ],
   "source": [
    "#### Create working directory\n",
    "import os\n",
    "print(os.getcwd())\n",
    "os.chdir(\"C:/Users/michy/Housing_Price_Prediction/housing_data\")"
   ]
  },
  {
   "cell_type": "code",
   "execution_count": 99,
   "id": "199bd75f-5087-4f98-bbef-86cea4b7341a",
   "metadata": {},
   "outputs": [
    {
     "data": {
      "text/html": [
       "<div>\n",
       "<style scoped>\n",
       "    .dataframe tbody tr th:only-of-type {\n",
       "        vertical-align: middle;\n",
       "    }\n",
       "\n",
       "    .dataframe tbody tr th {\n",
       "        vertical-align: top;\n",
       "    }\n",
       "\n",
       "    .dataframe thead th {\n",
       "        text-align: right;\n",
       "    }\n",
       "</style>\n",
       "<table border=\"1\" class=\"dataframe\">\n",
       "  <thead>\n",
       "    <tr style=\"text-align: right;\">\n",
       "      <th></th>\n",
       "      <th>longitude</th>\n",
       "      <th>latitude</th>\n",
       "      <th>housing_median_age</th>\n",
       "      <th>total_rooms</th>\n",
       "      <th>total_bedrooms</th>\n",
       "      <th>population</th>\n",
       "      <th>households</th>\n",
       "      <th>median_income</th>\n",
       "      <th>ocean_proximity</th>\n",
       "      <th>median_house_value</th>\n",
       "    </tr>\n",
       "  </thead>\n",
       "  <tbody>\n",
       "    <tr>\n",
       "      <th>0</th>\n",
       "      <td>-122.23</td>\n",
       "      <td>37.88</td>\n",
       "      <td>41</td>\n",
       "      <td>880</td>\n",
       "      <td>129.0</td>\n",
       "      <td>322</td>\n",
       "      <td>126</td>\n",
       "      <td>8.3252</td>\n",
       "      <td>NEAR BAY</td>\n",
       "      <td>452600</td>\n",
       "    </tr>\n",
       "    <tr>\n",
       "      <th>1</th>\n",
       "      <td>-122.22</td>\n",
       "      <td>37.86</td>\n",
       "      <td>21</td>\n",
       "      <td>7099</td>\n",
       "      <td>1106.0</td>\n",
       "      <td>2401</td>\n",
       "      <td>1138</td>\n",
       "      <td>8.3014</td>\n",
       "      <td>NEAR BAY</td>\n",
       "      <td>358500</td>\n",
       "    </tr>\n",
       "    <tr>\n",
       "      <th>2</th>\n",
       "      <td>-122.24</td>\n",
       "      <td>37.85</td>\n",
       "      <td>52</td>\n",
       "      <td>1467</td>\n",
       "      <td>190.0</td>\n",
       "      <td>496</td>\n",
       "      <td>177</td>\n",
       "      <td>7.2574</td>\n",
       "      <td>NEAR BAY</td>\n",
       "      <td>352100</td>\n",
       "    </tr>\n",
       "    <tr>\n",
       "      <th>3</th>\n",
       "      <td>-122.25</td>\n",
       "      <td>37.85</td>\n",
       "      <td>52</td>\n",
       "      <td>1274</td>\n",
       "      <td>235.0</td>\n",
       "      <td>558</td>\n",
       "      <td>219</td>\n",
       "      <td>5.6431</td>\n",
       "      <td>NEAR BAY</td>\n",
       "      <td>341300</td>\n",
       "    </tr>\n",
       "    <tr>\n",
       "      <th>4</th>\n",
       "      <td>-122.25</td>\n",
       "      <td>37.85</td>\n",
       "      <td>52</td>\n",
       "      <td>1627</td>\n",
       "      <td>280.0</td>\n",
       "      <td>565</td>\n",
       "      <td>259</td>\n",
       "      <td>3.8462</td>\n",
       "      <td>NEAR BAY</td>\n",
       "      <td>342200</td>\n",
       "    </tr>\n",
       "    <tr>\n",
       "      <th>5</th>\n",
       "      <td>-122.25</td>\n",
       "      <td>37.85</td>\n",
       "      <td>52</td>\n",
       "      <td>919</td>\n",
       "      <td>213.0</td>\n",
       "      <td>413</td>\n",
       "      <td>193</td>\n",
       "      <td>4.0368</td>\n",
       "      <td>NEAR BAY</td>\n",
       "      <td>269700</td>\n",
       "    </tr>\n",
       "  </tbody>\n",
       "</table>\n",
       "</div>"
      ],
      "text/plain": [
       "   longitude  latitude  housing_median_age  total_rooms  total_bedrooms  \\\n",
       "0    -122.23     37.88                  41          880           129.0   \n",
       "1    -122.22     37.86                  21         7099          1106.0   \n",
       "2    -122.24     37.85                  52         1467           190.0   \n",
       "3    -122.25     37.85                  52         1274           235.0   \n",
       "4    -122.25     37.85                  52         1627           280.0   \n",
       "5    -122.25     37.85                  52          919           213.0   \n",
       "\n",
       "   population  households  median_income ocean_proximity  median_house_value  \n",
       "0         322         126         8.3252        NEAR BAY              452600  \n",
       "1        2401        1138         8.3014        NEAR BAY              358500  \n",
       "2         496         177         7.2574        NEAR BAY              352100  \n",
       "3         558         219         5.6431        NEAR BAY              341300  \n",
       "4         565         259         3.8462        NEAR BAY              342200  \n",
       "5         413         193         4.0368        NEAR BAY              269700  "
      ]
     },
     "execution_count": 99,
     "metadata": {},
     "output_type": "execute_result"
    }
   ],
   "source": [
    "####Load data into python\n",
    "housing_data = pd.read_excel(\"Housing_data.xlsx\")\n",
    "####Print first few rows of data\n",
    "housing_data.head(6)"
   ]
  },
  {
   "cell_type": "code",
   "execution_count": 100,
   "id": "d0e727e5-628b-47f6-a8be-4b5cc829c5be",
   "metadata": {},
   "outputs": [],
   "source": [
    "####Extract output variable and rename dataframe \"Y\"\n",
    "\n",
    "Y = housing_data['median_house_value']"
   ]
  },
  {
   "cell_type": "code",
   "execution_count": 101,
   "id": "fd72253c-7dba-4e26-a649-b27e80202b07",
   "metadata": {},
   "outputs": [
    {
     "data": {
      "text/plain": [
       "0        452600\n",
       "1        358500\n",
       "2        352100\n",
       "3        341300\n",
       "4        342200\n",
       "          ...  \n",
       "20635     78100\n",
       "20636     77100\n",
       "20637     92300\n",
       "20638     84700\n",
       "20639     89400\n",
       "Name: median_house_value, Length: 20640, dtype: int64"
      ]
     },
     "execution_count": 101,
     "metadata": {},
     "output_type": "execute_result"
    }
   ],
   "source": [
    "Y"
   ]
  },
  {
   "cell_type": "code",
   "execution_count": 102,
   "id": "461dca28-ecbe-463f-b127-599bd7a82e15",
   "metadata": {},
   "outputs": [],
   "source": [
    "####Extract input variables and rename dataframe \"X\"\n",
    "X = housing_data.loc[:, 'longitude':'ocean_proximity']"
   ]
  },
  {
   "cell_type": "code",
   "execution_count": 103,
   "id": "97f27220-3b72-47e6-b400-ccda497cab17",
   "metadata": {},
   "outputs": [
    {
     "data": {
      "text/html": [
       "<div>\n",
       "<style scoped>\n",
       "    .dataframe tbody tr th:only-of-type {\n",
       "        vertical-align: middle;\n",
       "    }\n",
       "\n",
       "    .dataframe tbody tr th {\n",
       "        vertical-align: top;\n",
       "    }\n",
       "\n",
       "    .dataframe thead th {\n",
       "        text-align: right;\n",
       "    }\n",
       "</style>\n",
       "<table border=\"1\" class=\"dataframe\">\n",
       "  <thead>\n",
       "    <tr style=\"text-align: right;\">\n",
       "      <th></th>\n",
       "      <th>longitude</th>\n",
       "      <th>latitude</th>\n",
       "      <th>housing_median_age</th>\n",
       "      <th>total_rooms</th>\n",
       "      <th>total_bedrooms</th>\n",
       "      <th>population</th>\n",
       "      <th>households</th>\n",
       "      <th>median_income</th>\n",
       "      <th>ocean_proximity</th>\n",
       "    </tr>\n",
       "  </thead>\n",
       "  <tbody>\n",
       "    <tr>\n",
       "      <th>0</th>\n",
       "      <td>-122.23</td>\n",
       "      <td>37.88</td>\n",
       "      <td>41</td>\n",
       "      <td>880</td>\n",
       "      <td>129.0</td>\n",
       "      <td>322</td>\n",
       "      <td>126</td>\n",
       "      <td>8.3252</td>\n",
       "      <td>NEAR BAY</td>\n",
       "    </tr>\n",
       "    <tr>\n",
       "      <th>1</th>\n",
       "      <td>-122.22</td>\n",
       "      <td>37.86</td>\n",
       "      <td>21</td>\n",
       "      <td>7099</td>\n",
       "      <td>1106.0</td>\n",
       "      <td>2401</td>\n",
       "      <td>1138</td>\n",
       "      <td>8.3014</td>\n",
       "      <td>NEAR BAY</td>\n",
       "    </tr>\n",
       "    <tr>\n",
       "      <th>2</th>\n",
       "      <td>-122.24</td>\n",
       "      <td>37.85</td>\n",
       "      <td>52</td>\n",
       "      <td>1467</td>\n",
       "      <td>190.0</td>\n",
       "      <td>496</td>\n",
       "      <td>177</td>\n",
       "      <td>7.2574</td>\n",
       "      <td>NEAR BAY</td>\n",
       "    </tr>\n",
       "    <tr>\n",
       "      <th>3</th>\n",
       "      <td>-122.25</td>\n",
       "      <td>37.85</td>\n",
       "      <td>52</td>\n",
       "      <td>1274</td>\n",
       "      <td>235.0</td>\n",
       "      <td>558</td>\n",
       "      <td>219</td>\n",
       "      <td>5.6431</td>\n",
       "      <td>NEAR BAY</td>\n",
       "    </tr>\n",
       "    <tr>\n",
       "      <th>4</th>\n",
       "      <td>-122.25</td>\n",
       "      <td>37.85</td>\n",
       "      <td>52</td>\n",
       "      <td>1627</td>\n",
       "      <td>280.0</td>\n",
       "      <td>565</td>\n",
       "      <td>259</td>\n",
       "      <td>3.8462</td>\n",
       "      <td>NEAR BAY</td>\n",
       "    </tr>\n",
       "    <tr>\n",
       "      <th>...</th>\n",
       "      <td>...</td>\n",
       "      <td>...</td>\n",
       "      <td>...</td>\n",
       "      <td>...</td>\n",
       "      <td>...</td>\n",
       "      <td>...</td>\n",
       "      <td>...</td>\n",
       "      <td>...</td>\n",
       "      <td>...</td>\n",
       "    </tr>\n",
       "    <tr>\n",
       "      <th>20635</th>\n",
       "      <td>-121.09</td>\n",
       "      <td>39.48</td>\n",
       "      <td>25</td>\n",
       "      <td>1665</td>\n",
       "      <td>374.0</td>\n",
       "      <td>845</td>\n",
       "      <td>330</td>\n",
       "      <td>1.5603</td>\n",
       "      <td>INLAND</td>\n",
       "    </tr>\n",
       "    <tr>\n",
       "      <th>20636</th>\n",
       "      <td>-121.21</td>\n",
       "      <td>39.49</td>\n",
       "      <td>18</td>\n",
       "      <td>697</td>\n",
       "      <td>150.0</td>\n",
       "      <td>356</td>\n",
       "      <td>114</td>\n",
       "      <td>2.5568</td>\n",
       "      <td>INLAND</td>\n",
       "    </tr>\n",
       "    <tr>\n",
       "      <th>20637</th>\n",
       "      <td>-121.22</td>\n",
       "      <td>39.43</td>\n",
       "      <td>17</td>\n",
       "      <td>2254</td>\n",
       "      <td>485.0</td>\n",
       "      <td>1007</td>\n",
       "      <td>433</td>\n",
       "      <td>1.7000</td>\n",
       "      <td>INLAND</td>\n",
       "    </tr>\n",
       "    <tr>\n",
       "      <th>20638</th>\n",
       "      <td>-121.32</td>\n",
       "      <td>39.43</td>\n",
       "      <td>18</td>\n",
       "      <td>1860</td>\n",
       "      <td>409.0</td>\n",
       "      <td>741</td>\n",
       "      <td>349</td>\n",
       "      <td>1.8672</td>\n",
       "      <td>INLAND</td>\n",
       "    </tr>\n",
       "    <tr>\n",
       "      <th>20639</th>\n",
       "      <td>-121.24</td>\n",
       "      <td>39.37</td>\n",
       "      <td>16</td>\n",
       "      <td>2785</td>\n",
       "      <td>616.0</td>\n",
       "      <td>1387</td>\n",
       "      <td>530</td>\n",
       "      <td>2.3886</td>\n",
       "      <td>INLAND</td>\n",
       "    </tr>\n",
       "  </tbody>\n",
       "</table>\n",
       "<p>20640 rows × 9 columns</p>\n",
       "</div>"
      ],
      "text/plain": [
       "       longitude  latitude  housing_median_age  total_rooms  total_bedrooms  \\\n",
       "0        -122.23     37.88                  41          880           129.0   \n",
       "1        -122.22     37.86                  21         7099          1106.0   \n",
       "2        -122.24     37.85                  52         1467           190.0   \n",
       "3        -122.25     37.85                  52         1274           235.0   \n",
       "4        -122.25     37.85                  52         1627           280.0   \n",
       "...          ...       ...                 ...          ...             ...   \n",
       "20635    -121.09     39.48                  25         1665           374.0   \n",
       "20636    -121.21     39.49                  18          697           150.0   \n",
       "20637    -121.22     39.43                  17         2254           485.0   \n",
       "20638    -121.32     39.43                  18         1860           409.0   \n",
       "20639    -121.24     39.37                  16         2785           616.0   \n",
       "\n",
       "       population  households  median_income ocean_proximity  \n",
       "0             322         126         8.3252        NEAR BAY  \n",
       "1            2401        1138         8.3014        NEAR BAY  \n",
       "2             496         177         7.2574        NEAR BAY  \n",
       "3             558         219         5.6431        NEAR BAY  \n",
       "4             565         259         3.8462        NEAR BAY  \n",
       "...           ...         ...            ...             ...  \n",
       "20635         845         330         1.5603          INLAND  \n",
       "20636         356         114         2.5568          INLAND  \n",
       "20637        1007         433         1.7000          INLAND  \n",
       "20638         741         349         1.8672          INLAND  \n",
       "20639        1387         530         2.3886          INLAND  \n",
       "\n",
       "[20640 rows x 9 columns]"
      ]
     },
     "execution_count": 103,
     "metadata": {},
     "output_type": "execute_result"
    }
   ],
   "source": [
    "X\n"
   ]
  },
  {
   "cell_type": "code",
   "execution_count": 104,
   "id": "4600a706-51f6-49d3-b0f3-793f936e8102",
   "metadata": {},
   "outputs": [
    {
     "data": {
      "text/plain": [
       "longitude               0\n",
       "latitude                0\n",
       "housing_median_age      0\n",
       "total_rooms             0\n",
       "total_bedrooms        207\n",
       "population              0\n",
       "households              0\n",
       "median_income           0\n",
       "ocean_proximity         0\n",
       "dtype: int64"
      ]
     },
     "execution_count": 104,
     "metadata": {},
     "output_type": "execute_result"
    }
   ],
   "source": [
    "####Find columns with missing values in input dataframe\n",
    "X.isnull().sum()"
   ]
  },
  {
   "cell_type": "code",
   "execution_count": 105,
   "id": "88c75817-b91d-4d88-b26f-99c70c897817",
   "metadata": {},
   "outputs": [
    {
     "data": {
      "text/plain": [
       "537.8705525375618"
      ]
     },
     "execution_count": 105,
     "metadata": {},
     "output_type": "execute_result"
    }
   ],
   "source": [
    "####Find mean of total bedrooms column\n",
    "X.total_bedrooms.mean()"
   ]
  },
  {
   "cell_type": "code",
   "execution_count": 106,
   "id": "59ac82e8-3428-4d69-84df-e383c07d66db",
   "metadata": {},
   "outputs": [],
   "source": [
    "####Replace missing values in X dataframe with mean\n",
    "X['total_bedrooms'] = X['total_bedrooms'].fillna(X['total_bedrooms'].mean())"
   ]
  },
  {
   "cell_type": "code",
   "execution_count": 107,
   "id": "1b701cb0-0e9e-40d1-b6c1-3bca53aa4eb1",
   "metadata": {},
   "outputs": [
    {
     "data": {
      "text/plain": [
       "longitude             0\n",
       "latitude              0\n",
       "housing_median_age    0\n",
       "total_rooms           0\n",
       "total_bedrooms        0\n",
       "population            0\n",
       "households            0\n",
       "median_income         0\n",
       "ocean_proximity       0\n",
       "dtype: int64"
      ]
     },
     "execution_count": 107,
     "metadata": {},
     "output_type": "execute_result"
    }
   ],
   "source": [
    "X.isnull().sum()"
   ]
  },
  {
   "cell_type": "code",
   "execution_count": 108,
   "id": "f362ce2e-a721-4196-bed9-e350aded2710",
   "metadata": {},
   "outputs": [
    {
     "data": {
      "text/plain": [
       "0"
      ]
     },
     "execution_count": 108,
     "metadata": {},
     "output_type": "execute_result"
    }
   ],
   "source": [
    "####Find missing values in Y dataframe\n",
    "Y.isnull().sum()"
   ]
  },
  {
   "cell_type": "code",
   "execution_count": 109,
   "id": "1056800d-d810-412a-85d1-67089991080a",
   "metadata": {},
   "outputs": [
    {
     "data": {
      "text/plain": [
       "array(['NEAR BAY', '<1H OCEAN', 'INLAND', 'NEAR OCEAN', 'ISLAND'],\n",
       "      dtype=object)"
      ]
     },
     "execution_count": 109,
     "metadata": {},
     "output_type": "execute_result"
    }
   ],
   "source": [
    "###Find unique values for categorical data column\n",
    "X.ocean_proximity.unique()"
   ]
  },
  {
   "cell_type": "code",
   "execution_count": 110,
   "id": "909c72c0-4e21-4e88-a8a7-6aa460b2a37f",
   "metadata": {},
   "outputs": [],
   "source": [
    "from sklearn.preprocessing import LabelEncoder\n",
    "lb_make = LabelEncoder()"
   ]
  },
  {
   "cell_type": "code",
   "execution_count": 115,
   "id": "ec5ccd99-7489-42dc-af50-3c8a5fd7241b",
   "metadata": {},
   "outputs": [],
   "source": [
    "###Use dummies to encode categorical variable\n",
    "X = pd.get_dummies(X, columns=['ocean_proximity'], drop_first=True)"
   ]
  },
  {
   "cell_type": "code",
   "execution_count": 116,
   "id": "09e76c9f-6562-4c72-a40e-8d67e7ce1728",
   "metadata": {},
   "outputs": [],
   "source": [
    "###Split dataset into test and training datasets with 20% test and 80% training\n",
    "from sklearn.model_selection import train_test_split\n",
    "X_train, X_test, Y_train, Y_test = train_test_split(X, Y, test_size=0.2, random_state=101)"
   ]
  },
  {
   "cell_type": "code",
   "execution_count": 117,
   "id": "ffbc498d-1130-4e59-8c07-28968f92bca4",
   "metadata": {},
   "outputs": [],
   "source": [
    "###Standardize training and test datasets using sklearn\n",
    "from sklearn.preprocessing import StandardScaler\n",
    "####Initalise standard scaler\n",
    "scaler = StandardScaler()\n",
    "####Fit the scaler using X_train data\n",
    "scaler.fit(X_train)\n",
    "####Transform X_train and X_test using the scaler and convert back to DataFrame\n",
    "X_train = pd.DataFrame(scaler.transform(X_train), columns = X_train.columns)\n",
    "X_test = pd.DataFrame(scaler.transform(X_test), columns = X_test.columns)"
   ]
  },
  {
   "cell_type": "code",
   "execution_count": 118,
   "id": "63fa4024-24cc-42f6-8ab8-1582ec2c2001",
   "metadata": {},
   "outputs": [
    {
     "data": {
      "text/html": [
       "<div>\n",
       "<style scoped>\n",
       "    .dataframe tbody tr th:only-of-type {\n",
       "        vertical-align: middle;\n",
       "    }\n",
       "\n",
       "    .dataframe tbody tr th {\n",
       "        vertical-align: top;\n",
       "    }\n",
       "\n",
       "    .dataframe thead th {\n",
       "        text-align: right;\n",
       "    }\n",
       "</style>\n",
       "<table border=\"1\" class=\"dataframe\">\n",
       "  <thead>\n",
       "    <tr style=\"text-align: right;\">\n",
       "      <th></th>\n",
       "      <th>longitude</th>\n",
       "      <th>latitude</th>\n",
       "      <th>housing_median_age</th>\n",
       "      <th>total_rooms</th>\n",
       "      <th>total_bedrooms</th>\n",
       "      <th>population</th>\n",
       "      <th>households</th>\n",
       "      <th>median_income</th>\n",
       "      <th>ocean_proximity_INLAND</th>\n",
       "      <th>ocean_proximity_ISLAND</th>\n",
       "      <th>ocean_proximity_NEAR BAY</th>\n",
       "      <th>ocean_proximity_NEAR OCEAN</th>\n",
       "    </tr>\n",
       "  </thead>\n",
       "  <tbody>\n",
       "    <tr>\n",
       "      <th>0</th>\n",
       "      <td>0.720265</td>\n",
       "      <td>-0.676363</td>\n",
       "      <td>1.542312</td>\n",
       "      <td>-0.043703</td>\n",
       "      <td>-0.266525</td>\n",
       "      <td>-0.441868</td>\n",
       "      <td>-0.351468</td>\n",
       "      <td>0.450737</td>\n",
       "      <td>1.464017</td>\n",
       "      <td>-0.015566</td>\n",
       "      <td>-0.35207</td>\n",
       "      <td>-0.386705</td>\n",
       "    </tr>\n",
       "    <tr>\n",
       "      <th>1</th>\n",
       "      <td>-1.129840</td>\n",
       "      <td>1.916352</td>\n",
       "      <td>1.144321</td>\n",
       "      <td>0.155534</td>\n",
       "      <td>0.144863</td>\n",
       "      <td>-0.217852</td>\n",
       "      <td>0.157418</td>\n",
       "      <td>-0.846941</td>\n",
       "      <td>1.464017</td>\n",
       "      <td>-0.015566</td>\n",
       "      <td>-0.35207</td>\n",
       "      <td>-0.386705</td>\n",
       "    </tr>\n",
       "    <tr>\n",
       "      <th>2</th>\n",
       "      <td>-0.785750</td>\n",
       "      <td>1.477225</td>\n",
       "      <td>-0.686438</td>\n",
       "      <td>-0.242027</td>\n",
       "      <td>-0.396561</td>\n",
       "      <td>-0.606979</td>\n",
       "      <td>-0.481285</td>\n",
       "      <td>0.156749</td>\n",
       "      <td>1.464017</td>\n",
       "      <td>-0.015566</td>\n",
       "      <td>-0.35207</td>\n",
       "      <td>-0.386705</td>\n",
       "    </tr>\n",
       "    <tr>\n",
       "      <th>3</th>\n",
       "      <td>1.243880</td>\n",
       "      <td>-0.316653</td>\n",
       "      <td>-0.049652</td>\n",
       "      <td>-0.391112</td>\n",
       "      <td>-0.545512</td>\n",
       "      <td>-0.628398</td>\n",
       "      <td>-0.624085</td>\n",
       "      <td>-0.124499</td>\n",
       "      <td>1.464017</td>\n",
       "      <td>-0.015566</td>\n",
       "      <td>-0.35207</td>\n",
       "      <td>-0.386705</td>\n",
       "    </tr>\n",
       "    <tr>\n",
       "      <th>4</th>\n",
       "      <td>0.037073</td>\n",
       "      <td>-0.601618</td>\n",
       "      <td>0.825928</td>\n",
       "      <td>-1.060856</td>\n",
       "      <td>-1.181508</td>\n",
       "      <td>-1.219228</td>\n",
       "      <td>-1.242018</td>\n",
       "      <td>4.163769</td>\n",
       "      <td>-0.683052</td>\n",
       "      <td>-0.015566</td>\n",
       "      <td>-0.35207</td>\n",
       "      <td>2.585953</td>\n",
       "    </tr>\n",
       "    <tr>\n",
       "      <th>...</th>\n",
       "      <td>...</td>\n",
       "      <td>...</td>\n",
       "      <td>...</td>\n",
       "      <td>...</td>\n",
       "      <td>...</td>\n",
       "      <td>...</td>\n",
       "      <td>...</td>\n",
       "      <td>...</td>\n",
       "      <td>...</td>\n",
       "      <td>...</td>\n",
       "      <td>...</td>\n",
       "      <td>...</td>\n",
       "    </tr>\n",
       "    <tr>\n",
       "      <th>16507</th>\n",
       "      <td>0.660423</td>\n",
       "      <td>-0.657677</td>\n",
       "      <td>0.427937</td>\n",
       "      <td>-0.097501</td>\n",
       "      <td>-0.148310</td>\n",
       "      <td>-0.172335</td>\n",
       "      <td>-0.117795</td>\n",
       "      <td>0.428783</td>\n",
       "      <td>-0.683052</td>\n",
       "      <td>-0.015566</td>\n",
       "      <td>-0.35207</td>\n",
       "      <td>-0.386705</td>\n",
       "    </tr>\n",
       "    <tr>\n",
       "      <th>16508</th>\n",
       "      <td>0.735225</td>\n",
       "      <td>-0.835196</td>\n",
       "      <td>0.587133</td>\n",
       "      <td>-0.765421</td>\n",
       "      <td>-0.895428</td>\n",
       "      <td>-0.900609</td>\n",
       "      <td>-0.888913</td>\n",
       "      <td>0.406513</td>\n",
       "      <td>-0.683052</td>\n",
       "      <td>-0.015566</td>\n",
       "      <td>-0.35207</td>\n",
       "      <td>-0.386705</td>\n",
       "    </tr>\n",
       "    <tr>\n",
       "      <th>16509</th>\n",
       "      <td>-1.089945</td>\n",
       "      <td>0.776492</td>\n",
       "      <td>-1.800813</td>\n",
       "      <td>0.406289</td>\n",
       "      <td>0.050291</td>\n",
       "      <td>-0.042031</td>\n",
       "      <td>-0.021730</td>\n",
       "      <td>1.198030</td>\n",
       "      <td>-0.683052</td>\n",
       "      <td>-0.015566</td>\n",
       "      <td>-0.35207</td>\n",
       "      <td>-0.386705</td>\n",
       "    </tr>\n",
       "    <tr>\n",
       "      <th>16510</th>\n",
       "      <td>-1.184694</td>\n",
       "      <td>0.799849</td>\n",
       "      <td>0.587133</td>\n",
       "      <td>-0.821955</td>\n",
       "      <td>-0.772484</td>\n",
       "      <td>-0.785477</td>\n",
       "      <td>-0.748710</td>\n",
       "      <td>-0.310348</td>\n",
       "      <td>-0.683052</td>\n",
       "      <td>-0.015566</td>\n",
       "      <td>-0.35207</td>\n",
       "      <td>-0.386705</td>\n",
       "    </tr>\n",
       "    <tr>\n",
       "      <th>16511</th>\n",
       "      <td>-0.975249</td>\n",
       "      <td>0.566271</td>\n",
       "      <td>-0.447644</td>\n",
       "      <td>0.330150</td>\n",
       "      <td>0.442765</td>\n",
       "      <td>0.389935</td>\n",
       "      <td>0.393687</td>\n",
       "      <td>-0.631188</td>\n",
       "      <td>1.464017</td>\n",
       "      <td>-0.015566</td>\n",
       "      <td>-0.35207</td>\n",
       "      <td>-0.386705</td>\n",
       "    </tr>\n",
       "  </tbody>\n",
       "</table>\n",
       "<p>16512 rows × 12 columns</p>\n",
       "</div>"
      ],
      "text/plain": [
       "       longitude  latitude  housing_median_age  total_rooms  total_bedrooms  \\\n",
       "0       0.720265 -0.676363            1.542312    -0.043703       -0.266525   \n",
       "1      -1.129840  1.916352            1.144321     0.155534        0.144863   \n",
       "2      -0.785750  1.477225           -0.686438    -0.242027       -0.396561   \n",
       "3       1.243880 -0.316653           -0.049652    -0.391112       -0.545512   \n",
       "4       0.037073 -0.601618            0.825928    -1.060856       -1.181508   \n",
       "...          ...       ...                 ...          ...             ...   \n",
       "16507   0.660423 -0.657677            0.427937    -0.097501       -0.148310   \n",
       "16508   0.735225 -0.835196            0.587133    -0.765421       -0.895428   \n",
       "16509  -1.089945  0.776492           -1.800813     0.406289        0.050291   \n",
       "16510  -1.184694  0.799849            0.587133    -0.821955       -0.772484   \n",
       "16511  -0.975249  0.566271           -0.447644     0.330150        0.442765   \n",
       "\n",
       "       population  households  median_income  ocean_proximity_INLAND  \\\n",
       "0       -0.441868   -0.351468       0.450737                1.464017   \n",
       "1       -0.217852    0.157418      -0.846941                1.464017   \n",
       "2       -0.606979   -0.481285       0.156749                1.464017   \n",
       "3       -0.628398   -0.624085      -0.124499                1.464017   \n",
       "4       -1.219228   -1.242018       4.163769               -0.683052   \n",
       "...           ...         ...            ...                     ...   \n",
       "16507   -0.172335   -0.117795       0.428783               -0.683052   \n",
       "16508   -0.900609   -0.888913       0.406513               -0.683052   \n",
       "16509   -0.042031   -0.021730       1.198030               -0.683052   \n",
       "16510   -0.785477   -0.748710      -0.310348               -0.683052   \n",
       "16511    0.389935    0.393687      -0.631188                1.464017   \n",
       "\n",
       "       ocean_proximity_ISLAND  ocean_proximity_NEAR BAY  \\\n",
       "0                   -0.015566                  -0.35207   \n",
       "1                   -0.015566                  -0.35207   \n",
       "2                   -0.015566                  -0.35207   \n",
       "3                   -0.015566                  -0.35207   \n",
       "4                   -0.015566                  -0.35207   \n",
       "...                       ...                       ...   \n",
       "16507               -0.015566                  -0.35207   \n",
       "16508               -0.015566                  -0.35207   \n",
       "16509               -0.015566                  -0.35207   \n",
       "16510               -0.015566                  -0.35207   \n",
       "16511               -0.015566                  -0.35207   \n",
       "\n",
       "       ocean_proximity_NEAR OCEAN  \n",
       "0                       -0.386705  \n",
       "1                       -0.386705  \n",
       "2                       -0.386705  \n",
       "3                       -0.386705  \n",
       "4                        2.585953  \n",
       "...                           ...  \n",
       "16507                   -0.386705  \n",
       "16508                   -0.386705  \n",
       "16509                   -0.386705  \n",
       "16510                   -0.386705  \n",
       "16511                   -0.386705  \n",
       "\n",
       "[16512 rows x 12 columns]"
      ]
     },
     "execution_count": 118,
     "metadata": {},
     "output_type": "execute_result"
    }
   ],
   "source": [
    "X_train\n"
   ]
  },
  {
   "cell_type": "code",
   "execution_count": 119,
   "id": "1162a36e-98c9-4163-8cab-d176314f2c53",
   "metadata": {},
   "outputs": [],
   "source": [
    "###Linear Regressions\n",
    "####Import Library\n",
    "from sklearn.linear_model import LinearRegression"
   ]
  },
  {
   "cell_type": "code",
   "execution_count": 121,
   "id": "8288e3d1-bdbd-4630-91cc-8c23870eacee",
   "metadata": {},
   "outputs": [
    {
     "data": {
      "text/plain": [
       "LinearRegression()"
      ]
     },
     "execution_count": 121,
     "metadata": {},
     "output_type": "execute_result"
    }
   ],
   "source": [
    "####Initialise & Fit Model\n",
    "model = LinearRegression()\n",
    "model.fit(X_train, Y_train)"
   ]
  },
  {
   "cell_type": "code",
   "execution_count": 122,
   "id": "9db6cedc-26a1-4f9d-b72c-0d3a53ea20d8",
   "metadata": {},
   "outputs": [],
   "source": [
    "###Predict output for test dataset using the fitted model.\n",
    "Y_predicted = model.predict(X_test)"
   ]
  },
  {
   "cell_type": "code",
   "execution_count": 125,
   "id": "ffdde372-bc8d-41a2-b4b2-cb4c40455428",
   "metadata": {},
   "outputs": [
    {
     "name": "stdout",
     "output_type": "stream",
     "text": [
      "206605.10895106554\n"
     ]
    },
    {
     "data": {
      "text/html": [
       "<div>\n",
       "<style scoped>\n",
       "    .dataframe tbody tr th:only-of-type {\n",
       "        vertical-align: middle;\n",
       "    }\n",
       "\n",
       "    .dataframe tbody tr th {\n",
       "        vertical-align: top;\n",
       "    }\n",
       "\n",
       "    .dataframe thead th {\n",
       "        text-align: right;\n",
       "    }\n",
       "</style>\n",
       "<table border=\"1\" class=\"dataframe\">\n",
       "  <thead>\n",
       "    <tr style=\"text-align: right;\">\n",
       "      <th></th>\n",
       "      <th>Coef</th>\n",
       "    </tr>\n",
       "  </thead>\n",
       "  <tbody>\n",
       "    <tr>\n",
       "      <th>longitude</th>\n",
       "      <td>-53832.019953</td>\n",
       "    </tr>\n",
       "    <tr>\n",
       "      <th>latitude</th>\n",
       "      <td>-55144.206003</td>\n",
       "    </tr>\n",
       "    <tr>\n",
       "      <th>housing_median_age</th>\n",
       "      <td>13375.841699</td>\n",
       "    </tr>\n",
       "    <tr>\n",
       "      <th>total_rooms</th>\n",
       "      <td>-8008.168495</td>\n",
       "    </tr>\n",
       "    <tr>\n",
       "      <th>total_bedrooms</th>\n",
       "      <td>30659.086456</td>\n",
       "    </tr>\n",
       "    <tr>\n",
       "      <th>population</th>\n",
       "      <td>-50543.036221</td>\n",
       "    </tr>\n",
       "    <tr>\n",
       "      <th>households</th>\n",
       "      <td>32789.588389</td>\n",
       "    </tr>\n",
       "    <tr>\n",
       "      <th>median_income</th>\n",
       "      <td>73061.679934</td>\n",
       "    </tr>\n",
       "    <tr>\n",
       "      <th>ocean_proximity_INLAND</th>\n",
       "      <td>-18341.261361</td>\n",
       "    </tr>\n",
       "    <tr>\n",
       "      <th>ocean_proximity_ISLAND</th>\n",
       "      <td>2646.295627</td>\n",
       "    </tr>\n",
       "    <tr>\n",
       "      <th>ocean_proximity_NEAR BAY</th>\n",
       "      <td>-989.350756</td>\n",
       "    </tr>\n",
       "    <tr>\n",
       "      <th>ocean_proximity_NEAR OCEAN</th>\n",
       "      <td>1537.608747</td>\n",
       "    </tr>\n",
       "  </tbody>\n",
       "</table>\n",
       "</div>"
      ],
      "text/plain": [
       "                                    Coef\n",
       "longitude                  -53832.019953\n",
       "latitude                   -55144.206003\n",
       "housing_median_age          13375.841699\n",
       "total_rooms                 -8008.168495\n",
       "total_bedrooms              30659.086456\n",
       "population                 -50543.036221\n",
       "households                  32789.588389\n",
       "median_income               73061.679934\n",
       "ocean_proximity_INLAND     -18341.261361\n",
       "ocean_proximity_ISLAND       2646.295627\n",
       "ocean_proximity_NEAR BAY     -989.350756\n",
       "ocean_proximity_NEAR OCEAN   1537.608747"
      ]
     },
     "execution_count": 125,
     "metadata": {},
     "output_type": "execute_result"
    }
   ],
   "source": [
    "###Regression Results - intercept and coefficients\n",
    "print(model.intercept_)\n",
    "coefficients = pd.DataFrame(model.coef_, X_train.columns, columns=['Coef'])\n",
    "coefficients"
   ]
  },
  {
   "cell_type": "code",
   "execution_count": 126,
   "id": "488450ab-34d3-455d-8289-4d5b592c6eed",
   "metadata": {},
   "outputs": [
    {
     "name": "stdout",
     "output_type": "stream",
     "text": [
      "MSE: 5247534236.428382\n"
     ]
    }
   ],
   "source": [
    "###Print Root Mean Squared Error\n",
    "from sklearn.metrics import mean_squared_error, mean_absolute_error\n",
    "print('MSE:',mean_squared_error(Y_test,Y_predicted))"
   ]
  },
  {
   "cell_type": "code",
   "execution_count": 146,
   "id": "721de5bb-4b2e-4d83-a81a-46a9ef1e4621",
   "metadata": {},
   "outputs": [
    {
     "data": {
      "text/html": [
       "<div>\n",
       "<style scoped>\n",
       "    .dataframe tbody tr th:only-of-type {\n",
       "        vertical-align: middle;\n",
       "    }\n",
       "\n",
       "    .dataframe tbody tr th {\n",
       "        vertical-align: top;\n",
       "    }\n",
       "\n",
       "    .dataframe thead th {\n",
       "        text-align: right;\n",
       "    }\n",
       "</style>\n",
       "<table border=\"1\" class=\"dataframe\">\n",
       "  <thead>\n",
       "    <tr style=\"text-align: right;\">\n",
       "      <th></th>\n",
       "      <th>median_income</th>\n",
       "    </tr>\n",
       "  </thead>\n",
       "  <tbody>\n",
       "    <tr>\n",
       "      <th>0</th>\n",
       "      <td>0.450737</td>\n",
       "    </tr>\n",
       "    <tr>\n",
       "      <th>1</th>\n",
       "      <td>-0.846941</td>\n",
       "    </tr>\n",
       "    <tr>\n",
       "      <th>2</th>\n",
       "      <td>0.156749</td>\n",
       "    </tr>\n",
       "    <tr>\n",
       "      <th>3</th>\n",
       "      <td>-0.124499</td>\n",
       "    </tr>\n",
       "    <tr>\n",
       "      <th>4</th>\n",
       "      <td>4.163769</td>\n",
       "    </tr>\n",
       "    <tr>\n",
       "      <th>...</th>\n",
       "      <td>...</td>\n",
       "    </tr>\n",
       "    <tr>\n",
       "      <th>16507</th>\n",
       "      <td>0.428783</td>\n",
       "    </tr>\n",
       "    <tr>\n",
       "      <th>16508</th>\n",
       "      <td>0.406513</td>\n",
       "    </tr>\n",
       "    <tr>\n",
       "      <th>16509</th>\n",
       "      <td>1.198030</td>\n",
       "    </tr>\n",
       "    <tr>\n",
       "      <th>16510</th>\n",
       "      <td>-0.310348</td>\n",
       "    </tr>\n",
       "    <tr>\n",
       "      <th>16511</th>\n",
       "      <td>-0.631188</td>\n",
       "    </tr>\n",
       "  </tbody>\n",
       "</table>\n",
       "<p>16512 rows × 1 columns</p>\n",
       "</div>"
      ],
      "text/plain": [
       "       median_income\n",
       "0           0.450737\n",
       "1          -0.846941\n",
       "2           0.156749\n",
       "3          -0.124499\n",
       "4           4.163769\n",
       "...              ...\n",
       "16507       0.428783\n",
       "16508       0.406513\n",
       "16509       1.198030\n",
       "16510      -0.310348\n",
       "16511      -0.631188\n",
       "\n",
       "[16512 rows x 1 columns]"
      ]
     },
     "execution_count": 146,
     "metadata": {},
     "output_type": "execute_result"
    }
   ],
   "source": [
    "##Bonus Question\n",
    "###Linear regression with one independent variable\n",
    "####Extract median income from X_test and X_train\n",
    "X_train_alt = X_train.loc[:,['median_income']]\n",
    "X_test_alt = X_test.loc[:,['median_income']]\n",
    "X_train_alt"
   ]
  },
  {
   "cell_type": "code",
   "execution_count": 147,
   "id": "fa721458-0697-4854-b881-736124944c2a",
   "metadata": {},
   "outputs": [
    {
     "data": {
      "text/plain": [
       "LinearRegression()"
      ]
     },
     "execution_count": 147,
     "metadata": {},
     "output_type": "execute_result"
    }
   ],
   "source": [
    "####Initialise & Fit Model Alternative Model\n",
    "model_Alt = LinearRegression()\n",
    "model.fit(X_train_alt, Y_train)"
   ]
  },
  {
   "cell_type": "code",
   "execution_count": 148,
   "id": "538980db-a610-4f19-b2e1-c59c9395fe37",
   "metadata": {},
   "outputs": [],
   "source": [
    "###Predict output for test dataset using the Alt fitted model.\n",
    "Y_predicted_Alt = model.predict(X_test_alt)"
   ]
  },
  {
   "cell_type": "code",
   "execution_count": 149,
   "id": "ad5524ef-98c2-42ad-965a-090c9befc0ee",
   "metadata": {},
   "outputs": [
    {
     "name": "stdout",
     "output_type": "stream",
     "text": [
      "206605.1089510659\n"
     ]
    },
    {
     "data": {
      "text/html": [
       "<div>\n",
       "<style scoped>\n",
       "    .dataframe tbody tr th:only-of-type {\n",
       "        vertical-align: middle;\n",
       "    }\n",
       "\n",
       "    .dataframe tbody tr th {\n",
       "        vertical-align: top;\n",
       "    }\n",
       "\n",
       "    .dataframe thead th {\n",
       "        text-align: right;\n",
       "    }\n",
       "</style>\n",
       "<table border=\"1\" class=\"dataframe\">\n",
       "  <thead>\n",
       "    <tr style=\"text-align: right;\">\n",
       "      <th></th>\n",
       "      <th>Coef</th>\n",
       "    </tr>\n",
       "  </thead>\n",
       "  <tbody>\n",
       "    <tr>\n",
       "      <th>median_income</th>\n",
       "      <td>79348.769003</td>\n",
       "    </tr>\n",
       "  </tbody>\n",
       "</table>\n",
       "</div>"
      ],
      "text/plain": [
       "                       Coef\n",
       "median_income  79348.769003"
      ]
     },
     "execution_count": 149,
     "metadata": {},
     "output_type": "execute_result"
    }
   ],
   "source": [
    "###Regression Results - intercept and coefficients\n",
    "print(model.intercept_)\n",
    "coefficients1 = pd.DataFrame(model.coef_, X_train_alt.columns, columns=['Coef'])\n",
    "coefficients1"
   ]
  },
  {
   "cell_type": "code",
   "execution_count": 169,
   "id": "2897020f-1dd0-489f-99f3-ecbf88c1a5ca",
   "metadata": {},
   "outputs": [
    {
     "data": {
      "text/plain": [
       "<matplotlib.legend.Legend at 0x2226b441580>"
      ]
     },
     "execution_count": 169,
     "metadata": {},
     "output_type": "execute_result"
    },
    {
     "data": {
      "image/png": "[encoded data removed]",
      "text/plain": [
       "<Figure size 720x720 with 1 Axes>"
      ]
     },
     "metadata": {
      "needs_background": "light"
     },
     "output_type": "display_data"
    }
   ],
   "source": [
    "### Visualizing the regression line\n",
    "plt.subplots(figsize=(10,10))\n",
    "plt.scatter(Y_test, Y_predicted_Alt, label ='test')\n",
    "plt.scatter(Y_train,  model.predict(X_train_alt), label = 'train')\n",
    "plt.xlabel('Actual Median Price')\n",
    "plt.ylabel('Predicted Median Price')\n",
    "plt.legend()"
   ]
  },
  {
   "cell_type": "code",
   "execution_count": null,
   "id": "8c85f325-899c-4380-8810-8dc15532c882",
   "metadata": {},
   "outputs": [],
   "source": []
  }
 ],
 "metadata": {
  "kernelspec": {
   "display_name": "Python 3",
   "language": "python",
   "name": "python3"
  },
  "language_info": {
   "codemirror_mode": {
    "name": "ipython",
    "version": 3
   },
   "file_extension": ".py",
   "mimetype": "text/x-python",
   "name": "python",
   "nbconvert_exporter": "python",
   "pygments_lexer": "ipython3",
   "version": "3.8.8"
  }
 },
 "nbformat": 4,
 "nbformat_minor": 5
}
